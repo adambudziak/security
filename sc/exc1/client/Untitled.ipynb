{
 "cells": [
  {
   "cell_type": "code",
   "execution_count": 25,
   "metadata": {},
   "outputs": [],
   "source": [
    "import socket\n",
    "import sys\n",
    "import time\n",
    "\n",
    "\n",
    "HOSTNAME = 'target.myrelabs.com'\n",
    "PORT = 7777\n",
    "\n",
    "HOST = socket.gethostbyname(HOSTNAME)\n",
    "\n",
    "TEST_ITERS = 10\n",
    "\n",
    "\n",
    "def print_clients():\n",
    "    s.send(index.to_bytes(4, 'little'), 4)\n",
    "    clients = int.from_bytes(s.recv(4), 'little')\n",
    "    print('Connected clients: ', clients)\n",
    "\n",
    "    \n",
    "\n",
    "def init_socket():\n",
    "    try:\n",
    "        s = socket.socket(socket.AF_INET, socket.SOCK_STREAM)\n",
    "        s.connect((HOST, PORT))\n",
    "    except socket.error as err:\n",
    "        print('socket err', err)\n",
    "        sys.exit(1)\n",
    "    return s\n",
    "\n",
    "\n",
    "def test(p_index, password):\n",
    "    result = 0\n",
    "    digest = p_index.to_bytes(1, 'little') + password\n",
    "    start = time.time_ns()\n",
    "    s.send(digest)\n",
    "    res = s.recv(1)\n",
    "    end = time.time_ns()\n",
    "    result += (end - start) / 1_000_000\n",
    "    return result, res == 1\n"
   ]
  },
  {
   "cell_type": "code",
   "execution_count": 26,
   "metadata": {},
   "outputs": [
    {
     "name": "stdout",
     "output_type": "stream",
     "text": [
      "Connected clients:  2\n"
     ]
    }
   ],
   "source": [
    "s = init_socket()\n",
    "print_clients()\n",
    "\n",
    "index = 229747\n",
    "p_index = 0"
   ]
  },
  {
   "cell_type": "code",
   "execution_count": 27,
   "metadata": {},
   "outputs": [],
   "source": [
    "def run_tests(p_index, password, index):\n",
    "    results = [0 for _ in range(256)]\n",
    "    for test_iter in range(TEST_ITERS):\n",
    "        print('iter ', test_iter)\n",
    "        for i in range(256):\n",
    "            password = bytes([i]) + password[1:]\n",
    "            r, passed = test(0, password)\n",
    "            results[i] += r / TEST_ITERS\n",
    "    return results, passed"
   ]
  },
  {
   "cell_type": "code",
   "execution_count": 28,
   "metadata": {},
   "outputs": [],
   "source": [
    "import matplotlib.pyplot as plt\n",
    "X = list(range(256))\n",
    "password = bytes(range(8))\n",
    "\n",
    "def plot(results):\n",
    "    plt.plot(X, results)\n",
    "    plt.show()\n"
   ]
  },
  {
   "cell_type": "code",
   "execution_count": 29,
   "metadata": {},
   "outputs": [
    {
     "name": "stdout",
     "output_type": "stream",
     "text": [
      "iter  0\n",
      "iter  1\n",
      "iter  2\n",
      "iter  3\n",
      "iter  4\n",
      "iter  5\n",
      "iter  6\n",
      "iter  7\n",
      "iter  8\n",
      "iter  9\n"
     ]
    },
    {
     "data": {
      "image/png": "[encoded data removed]",
      "text/plain": [
       "<Figure size 432x288 with 1 Axes>"
      ]
     },
     "metadata": {
      "needs_background": "light"
     },
     "output_type": "display_data"
    }
   ],
   "source": [
    "results, passed = run_tests(p_index, password, 0)\n",
    "plot(results)"
   ]
  },
  {
   "cell_type": "code",
   "execution_count": 31,
   "metadata": {},
   "outputs": [
    {
     "name": "stdout",
     "output_type": "stream",
     "text": [
      "iter  0\n",
      "iter  1\n",
      "iter  2\n",
      "iter  3\n",
      "iter  4\n",
      "iter  5\n",
      "iter  6\n",
      "iter  7\n",
      "iter  8\n",
      "iter  9\n"
     ]
    },
    {
     "data": {
      "image/png": "[encoded data removed]",
      "text/plain": [
       "<Figure size 432x288 with 1 Axes>"
      ]
     },
     "metadata": {
      "needs_background": "light"
     },
     "output_type": "display_data"
    }
   ],
   "source": [
    "results2, passed = run_tests(p_index, password, 0)\n",
    "plot(results2)"
   ]
  },
  {
   "cell_type": "code",
   "execution_count": null,
   "metadata": {},
   "outputs": [],
   "source": []
  },
  {
   "cell_type": "code",
   "execution_count": null,
   "metadata": {},
   "outputs": [],
   "source": []
  }
 ],
 "metadata": {
  "kernelspec": {
   "display_name": "Python 3",
   "language": "python",
   "name": "python3"
  },
  "language_info": {
   "codemirror_mode": {
    "name": "ipython",
    "version": 3
   },
   "file_extension": ".py",
   "mimetype": "text/x-python",
   "name": "python",
   "nbconvert_exporter": "python",
   "pygments_lexer": "ipython3",
   "version": "3.7.5"
  }
 },
 "nbformat": 4,
 "nbformat_minor": 2
}
